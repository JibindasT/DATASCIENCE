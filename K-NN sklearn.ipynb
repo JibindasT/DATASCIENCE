{
 "cells": [
  {
   "cell_type": "markdown",
   "id": "25d93620",
   "metadata": {},
   "source": [
    "# K-NN \n"
   ]
  },
  {
   "cell_type": "code",
   "execution_count": 11,
   "id": "25779bc4",
   "metadata": {},
   "outputs": [
    {
     "name": "stdout",
     "output_type": "stream",
     "text": [
      " Accuracy of k-NN with k=3:1.00\n"
     ]
    }
   ],
   "source": [
    "import numpy as np\n",
    "from sklearn.datasets import load_iris\n",
    "from sklearn.model_selection import train_test_split\n",
    "from sklearn.neighbors import KNeighborsClassifier\n",
    "from sklearn.metrics import accuracy_score\n",
    "#Load the Iris dataset\n",
    "data = load_iris()\n",
    "X = data.data #Feature\n",
    "y = data.target #Target(labels)\n",
    "#split the dataset into training and testing sets\n",
    "X_train,X_test,y_train,y_test=train_test_split(X,y,test_size=0.2,random_state=42)\n",
    "\n",
    "\n",
    "#initialize the k-NN classifier with a specified value of k \n",
    "k=3 #You can change this value as needed\n",
    "knn = KNeighborsClassifier(n_neighbors=k)\n",
    "# Fit the model on the training data\n",
    "knn.fit(X_train,y_train)\n",
    "#Make predictions on the test data\n",
    "y_pred = knn.predict(X_test)\n",
    "#Calculate the accuracy of the model\n",
    "accuracy = accuracy_score(y_test,y_pred)\n",
    "print(f' Accuracy of k-NN with k={k}:{accuracy:.2f}')\n"
   ]
  },
  {
   "cell_type": "code",
   "execution_count": null,
   "id": "cbc6f73c",
   "metadata": {},
   "outputs": [],
   "source": []
  },
  {
   "cell_type": "code",
   "execution_count": null,
   "id": "a711bb22",
   "metadata": {},
   "outputs": [],
   "source": [
    "\n",
    "\n"
   ]
  },
  {
   "cell_type": "code",
   "execution_count": null,
   "id": "31b861b1",
   "metadata": {},
   "outputs": [],
   "source": []
  },
  {
   "cell_type": "code",
   "execution_count": null,
   "id": "1bfad26a",
   "metadata": {},
   "outputs": [],
   "source": []
  }
 ],
 "metadata": {
  "kernelspec": {
   "display_name": "Python 3 (ipykernel)",
   "language": "python",
   "name": "python3"
  },
  "language_info": {
   "codemirror_mode": {
    "name": "ipython",
    "version": 3
   },
   "file_extension": ".py",
   "mimetype": "text/x-python",
   "name": "python",
   "nbconvert_exporter": "python",
   "pygments_lexer": "ipython3",
   "version": "3.11.5"
  }
 },
 "nbformat": 4,
 "nbformat_minor": 5
}
