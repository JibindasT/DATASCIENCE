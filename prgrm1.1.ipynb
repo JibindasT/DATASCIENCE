{
 "cells": [
  {
   "cell_type": "markdown",
   "id": "c9623a41",
   "metadata": {},
   "source": [
    "# LARGEST FROM LIST"
   ]
  },
  {
   "cell_type": "code",
   "execution_count": 11,
   "id": "1683329d",
   "metadata": {},
   "outputs": [
    {
     "name": "stdout",
     "output_type": "stream",
     "text": [
      "Enter number of elements : 5\n",
      "6\n",
      "8\n",
      "4\n",
      "2\n",
      "5\n",
      "\n",
      "LIST               : ['6', '8', '4', '2', '5']\n",
      "\n",
      "LARGEST NUMBER IS  : 8\n"
     ]
    }
   ],
   "source": [
    "\n",
    "lst = []\n",
    "n = int(input(\"Enter number of elements : \"))\n",
    "for i in range(0, n):\n",
    "    a = input()\n",
    "    lst.append(a)  \n",
    "print('\\nLIST               :',lst)\n",
    "# printing the last element\n",
    "largest=max(lst)\n",
    "print(\"\\nLARGEST NUMBER IS  :\",largest)"
   ]
  },
  {
   "cell_type": "markdown",
   "id": "36c548de",
   "metadata": {},
   "source": [
    "# REMOVE DUPLICATES"
   ]
  },
  {
   "cell_type": "code",
   "execution_count": 39,
   "id": "2f25f2d6",
   "metadata": {},
   "outputs": [
    {
     "name": "stdout",
     "output_type": "stream",
     "text": [
      "Enter the number of elements in list:5\n",
      "6\n",
      "5\n",
      "8\n",
      "5\n",
      "6\n",
      "\n",
      "Input list             : ['6', '5', '8', '5', '6']\n",
      "Unique list            : ['6', '5', '8']\n"
     ]
    }
   ],
   "source": [
    "\n",
    "\n",
    "lst=[]\n",
    "n= int(input(\"Enter the number of elements in list:\"))\n",
    "for x in range(0,n):\n",
    "    element=input()\n",
    "    lst.append(element)\n",
    "b = set()\n",
    "unique = []\n",
    "for x in lst:\n",
    "    if x not in b:\n",
    "        unique.append(x)\n",
    "        b.add(x)\n",
    "print(\"\\nInput list             :\",lst)        \n",
    "print(\"Unique list            :\",unique)"
   ]
  },
  {
   "cell_type": "markdown",
   "id": "5d584861",
   "metadata": {},
   "source": [
    "\n",
    "# MERGE TWO DICTIONARY"
   ]
  },
  {
   "cell_type": "code",
   "execution_count": 43,
   "id": "e4d95575",
   "metadata": {},
   "outputs": [
    {
     "name": "stdout",
     "output_type": "stream",
     "text": [
      "No. of elements in 1st dictionary:3\n",
      "Enter the name:JIBIN\n",
      "Enter the age:22\n",
      "Enter the name:ALLEN\n",
      "Enter the age:18\n",
      "Enter the name:ABU\n",
      "Enter the age:24\n",
      "first dictionary is= {'ABU': 24, 'ALLEN': 18, 'JIBIN': 22}\n",
      "No. of elements in 2nd dictionary:3\n",
      "Enter the name:AYAN\n",
      "Enter the age:24\n",
      "Enter the name:AJU\n",
      "Enter the age:19\n",
      "Enter the name:VASU\n",
      "Enter the age:23\n",
      "second dictionary is= {'AJU': 19, 'AYAN': 24, 'VASU': 23}\n",
      "Merged dictionary= {'ABU': 24, 'AJU': 19, 'ALLEN': 18, 'AYAN': 24, 'JIBIN': 22, 'VASU': 23}\n"
     ]
    }
   ],
   "source": [
    "  def merge(b,d):\n",
    "    mg={**b,**d}\n",
    "    return mg\n",
    "\n",
    "a={}\n",
    "n=int(input(\"No. of elements in 1st dictionary:\"))\n",
    "for i in range(n):\n",
    "    name=input(\"Enter the name:\")\n",
    "    age=int(input(\"Enter the age:\"))\n",
    "    a[name]=age\n",
    "    b=list(a.items())\n",
    "    b.sort()\n",
    "    b=dict(b)\n",
    "print(\"first dictionary is=\",b)\n",
    "/\n",
    "c={}\n",
    "n=int(input(\"No. of elements in 2nd dictionary:\"))\n",
    "for i in range(n):\n",
    "    name=input(\"Enter the name:\")\n",
    "    age=int(input(\"Enter the age:\"))\n",
    "    c[name]=age\n",
    "    d=list(c.items())\n",
    "    d.sort()\n",
    "    d=dict(d)\n",
    "print(\"second dictionary is=\",d)\n",
    "e=merge(b,d)\n",
    "e=list(e.items())\n",
    "e.sort()\n",
    "e=dict(e)\n",
    "print(\"Merged dictionary=\",e)"
   ]
  },
  {
   "cell_type": "code",
   "execution_count": null,
   "id": "bc03b35b",
   "metadata": {},
   "outputs": [],
   "source": []
  },
  {
   "cell_type": "code",
   "execution_count": 59,
   "id": "12a982b6",
   "metadata": {},
   "outputs": [
    {
     "name": "stdout",
     "output_type": "stream",
     "text": [
      "True\n",
      "Lists have at least one common member\n"
     ]
    }
   ],
   "source": [
    "list1=[1,2,3,4,5]\n",
    "list2=[5,6,7,8,9]\n",
    "result = False\n",
    "for x in list1:\n",
    " for y in list2:\n",
    "     if x == y:\n",
    "         result = True\n",
    "print(result)\n",
    "if result:\n",
    "    print(\"Lists have at least one common member\")\n",
    "else:\n",
    "    print(\"Lists do not have any common member\")"
   ]
  },
  {
   "cell_type": "code",
   "execution_count": 64,
   "id": "c990c296",
   "metadata": {},
   "outputs": [
    {
     "name": "stdout",
     "output_type": "stream",
     "text": [
      "Enter number of elements : 3\n",
      "1\n",
      "4\n",
      "7\n",
      "Enter number of elements : 3\n",
      "1\n",
      "4\n",
      "7\n",
      "True\n",
      "Lists have at least one common member\n"
     ]
    }
   ],
   "source": [
    "\n",
    "lst = []\n",
    "n = int(input(\"Enter number of elements : \"))\n",
    "for i in range(0, n):\n",
    "    a = input()\n",
    "    lst.append(a)  \n",
    "\n",
    "\n",
    "lst1 = []\n",
    "n = int(input(\"Enter number of elements : \"))\n",
    "for i in range(0, n):\n",
    "    b = input()\n",
    "    lst.append(b)  \n",
    "\n",
    "\n",
    "result = False\n",
    "for x in a:\n",
    " for y in b:\n",
    "     if x == y:\n",
    "         result = True\n",
    "print(result)\n",
    "if result:\n",
    "    print(\"Lists have at least one common member\")\n",
    "else:\n",
    "    print(\"Lists do not have any common member\")"
   ]
  },
  {
   "cell_type": "code",
   "execution_count": null,
   "id": "e8d26963",
   "metadata": {},
   "outputs": [],
   "source": []
  }
 ],
 "metadata": {
  "kernelspec": {
   "display_name": "Python 3 (ipykernel)",
   "language": "python",
   "name": "python3"
  },
  "language_info": {
   "codemirror_mode": {
    "name": "ipython",
    "version": 3
   },
   "file_extension": ".py",
   "mimetype": "text/x-python",
   "name": "python",
   "nbconvert_exporter": "python",
   "pygments_lexer": "ipython3",
   "version": "3.11.5"
  }
 },
 "nbformat": 4,
 "nbformat_minor": 5
}
