{
 "cells": [
  {
   "cell_type": "markdown",
   "id": "4448b5bf",
   "metadata": {},
   "source": [
    "# 1 .ARITHMETIC"
   ]
  },
  {
   "cell_type": "code",
   "execution_count": 47,
   "id": "b7fa1839",
   "metadata": {},
   "outputs": [
    {
     "name": "stdout",
     "output_type": "stream",
     "text": [
      "FIRST NUMBER         : 5\n",
      "ENTER SECOND         : 2\n",
      "\n",
      "\t ARITHMATIC OPERATIONS \n",
      "\n",
      "Addition             : 7\n",
      "Substraction         : 3\n",
      "Multiplication       : 10\n",
      "Division             : 2.5\n"
     ]
    }
   ],
   "source": [
    "\n",
    "a=int(input('FIRST NUMBER         : '))\n",
    "b=int(input('ENTER SECOND         : '))\n",
    "print('\\n\\t ARITHMATIC OPERATIONS \\n')\n",
    "w=a+b\n",
    "x=a-b\n",
    "y=a*b\n",
    "z=a/b\n",
    "print('Addition             :',w)\n",
    "print('Substraction         :',x)\n",
    "print('Multiplication       :',y)\n",
    "print('Division             :',z)"
   ]
  },
  {
   "cell_type": "code",
   "execution_count": null,
   "id": "ec7daf5b",
   "metadata": {},
   "outputs": [],
   "source": []
  },
  {
   "cell_type": "markdown",
   "id": "ef3fcdc9",
   "metadata": {},
   "source": [
    "# 2.STRING"
   ]
  },
  {
   "cell_type": "code",
   "execution_count": 86,
   "id": "f2486746",
   "metadata": {},
   "outputs": [
    {
     "name": "stdout",
     "output_type": "stream",
     "text": [
      "Enter 1st STRING :jibin\n",
      "Enter 2nd STRING :das\n",
      "\n",
      "\t STRING OPERATIONS \n",
      "\n",
      "Length of 1st STRING : 5\n",
      "Length of 2st STRING : 3\n",
      "Concatenation        : jibindas\n",
      "Uppercase 1st string : JIBIN\n",
      "Lowercase 1st string : jibin\n",
      "String : HELLO GOOD MORNING\n",
      "Newstring : HELLO GOOD AFTERNOON\n"
     ]
    }
   ],
   "source": [
    "A=input(\"Enter 1st STRING :\")\n",
    "B=input(\"Enter 2nd STRING :\")\n",
    "print(\"\\n\\t STRING OPERATIONS \")\n",
    "print('\\nLength of 1st STRING :',len(A))\n",
    "print('Length of 2st STRING :',len(B))\n",
    "print('Concatenation        :',A + B)\n",
    "\n",
    "print('Uppercase 1st string :',A.upper())\n",
    "print('Lowercase 1st string :',A.lower())\n",
    "X= \"HELLO GOOD MORNING\"\n",
    "print(\"String               :\",X)\n",
    "Y=(X.replace(\"MORNING\",\"AFTERNOON\"))\n",
    "print(\"Newstring            :\",Y)"
   ]
  },
  {
   "cell_type": "code",
   "execution_count": null,
   "id": "473f87a6",
   "metadata": {},
   "outputs": [],
   "source": []
  },
  {
   "cell_type": "markdown",
   "id": "13168ab5",
   "metadata": {},
   "source": [
    "# 3. LIST"
   ]
  },
  {
   "cell_type": "code",
   "execution_count": 20,
   "id": "62575b39",
   "metadata": {},
   "outputs": [
    {
     "name": "stdout",
     "output_type": "stream",
     "text": [
      "Enter number of elements : 3\n",
      "abu\n",
      "jibin\n",
      "rosh\n",
      "List   : ['abu', 'jibin', 'rosh']\n"
     ]
    }
   ],
   "source": [
    "\n",
    "lst = []\n",
    "n = int(input(\"Enter number of elements : \"))\n",
    "for i in range(0, n):\n",
    "    a = input()\n",
    "    lst.append(a)  \n",
    "print('List   :',lst)\n"
   ]
  },
  {
   "cell_type": "markdown",
   "id": "71cb5ea8",
   "metadata": {},
   "source": [
    "# 4. DICTIONARY"
   ]
  },
  {
   "cell_type": "code",
   "execution_count": 30,
   "id": "777e6ee4",
   "metadata": {},
   "outputs": [
    {
     "name": "stdout",
     "output_type": "stream",
     "text": [
      "No. of elements in dictionary:4\n",
      "Enter the name:jibin\n",
      "Enter the age:23\n",
      "Enter the name:allen\n",
      "Enter the age:21\n",
      "Enter the name:abu\n",
      "Enter the age:22\n",
      "Enter the name:lenin\n",
      "Enter the age:25\n",
      "The dictionary is= {'abu': 22, 'allen': 21, 'jibin': 23, 'lenin': 25}\n",
      "The dictionary in ascending order= {'abu': 22, 'allen': 21, 'jibin': 23, 'lenin': 25}\n",
      "The dictionary in descending order= {'lenin': 25, 'jibin': 23, 'allen': 21, 'abu': 22}\n"
     ]
    }
   ],
   "source": [
    "a={}\n",
    "n=int(input(\"No. of elements in dictionary:\"))\n",
    "for i in range(n):\n",
    "    name=input(\"Enter the name:\")\n",
    "    age=int(input(\"Enter the age:\"))\n",
    "    a[name]=age\n",
    "    b=list(a.items())\n",
    "    b.sort()\n",
    "    b=dict(b)\n",
    "print(\"The dictionary is=\",b)\n",
    "b=dict(b)\n",
    "print(\"The dictionary in ascending order=\",b)\n",
    "r=list(a.items())\n",
    "r.sort(reverse=True)\n",
    "dsc=dict(r)\n",
    "r=dict(r)\n",
    "print(\"The dictionary in descending order=\",r)\n",
    "    "
   ]
  },
  {
   "cell_type": "code",
   "execution_count": null,
   "id": "7d4ebe79",
   "metadata": {},
   "outputs": [],
   "source": []
  }
 ],
 "metadata": {
  "kernelspec": {
   "display_name": "Python 3 (ipykernel)",
   "language": "python",
   "name": "python3"
  },
  "language_info": {
   "codemirror_mode": {
    "name": "ipython",
    "version": 3
   },
   "file_extension": ".py",
   "mimetype": "text/x-python",
   "name": "python",
   "nbconvert_exporter": "python",
   "pygments_lexer": "ipython3",
   "version": "3.11.5"
  }
 },
 "nbformat": 4,
 "nbformat_minor": 5
}
