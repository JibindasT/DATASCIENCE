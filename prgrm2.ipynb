{
 "cells": [
  {
   "cell_type": "markdown",
   "id": "9d2cfe7e",
   "metadata": {},
   "source": [
    "# MATRIX OPERATIONS"
   ]
  },
  {
   "cell_type": "code",
   "execution_count": 16,
   "id": "d11ffdbc",
   "metadata": {},
   "outputs": [
    {
     "name": "stdout",
     "output_type": "stream",
     "text": [
      "ADDITION                     \n",
      " [[ 6  8]\n",
      " [10 12]]\n",
      "\n",
      "SUBSTRACTION                 \n",
      " [[-4 -4]\n",
      " [-4 -4]]\n",
      "\n",
      "MULTIPLICATION(element-wise) \n",
      " [[ 5 12]\n",
      " [21 32]]\n",
      "\n",
      "MATRIX MULTIPLICATION        \n",
      " [[19 22]\n",
      " [43 50]]\n",
      "\n",
      "TRANSPOSE \n",
      " [[1 3]\n",
      " [2 4]]\n",
      "\n",
      " [[5 7]\n",
      " [6 8]]\n"
     ]
    }
   ],
   "source": [
    "import numpy as np\n",
    "#create matrix\n",
    "A=np.array([[1,2],[3,4]])\n",
    "B=np.array([[5,6],[7,8]])\n",
    "#ADDITION\n",
    "C=A+B\n",
    "#SUBSTRACTION\n",
    "D=A-B\n",
    "#MULTIPLICATION(element-wise)\n",
    "E=A*B\n",
    "#MATRIX MULTIPLICATION\n",
    "F=np.dot(A,B) # or A @ B\n",
    "#TRANSPOSE\n",
    "A_transpose=A.T\n",
    "B_transpose=B.T\n",
    "print(\"ADDITION                     \\n\",C)\n",
    "print(\"\\nSUBSTRACTION                 \\n\",D)\n",
    "print(\"\\nMULTIPLICATION(element-wise) \\n\",E)\n",
    "print(\"\\nMATRIX MULTIPLICATION        \\n\",F)\n",
    "print(\"\\nTRANSPOSE \\n\",A_transpose)\n",
    "print(\"\\n\",B_transpose)"
   ]
  },
  {
   "cell_type": "code",
   "execution_count": null,
   "id": "7e07d0e2",
   "metadata": {},
   "outputs": [],
   "source": []
  },
  {
   "cell_type": "markdown",
   "id": "e89e1c61",
   "metadata": {},
   "source": [
    "\n",
    "# SVD"
   ]
  },
  {
   "cell_type": "code",
   "execution_count": 2,
   "id": "d4fdebd2",
   "metadata": {},
   "outputs": [
    {
     "name": "stdout",
     "output_type": "stream",
     "text": [
      "Original Matrix :\n",
      "[[1 2 3]\n",
      " [4 5 6]\n",
      " [7 8 9]]\n",
      "\n",
      "Reconstruct Matrix(with reduced dimensions):\n",
      "[[1. 2. 3.]\n",
      " [4. 5. 6.]\n",
      " [7. 8. 9.]]\n"
     ]
    }
   ],
   "source": [
    "import numpy as np\n",
    "\n",
    "#creating sample matrix\n",
    "X=np.array([[1,2,3],[4,5,6],[7,8,9]])\n",
    "\n",
    "#perform SVD\n",
    "U,S,VT=np.linalg.svd(X)\n",
    "\n",
    "#choose the numb of compnents to keep (eg;2)\n",
    "n_components=2\n",
    "\n",
    "#reconstruct the  matrix with reduced dimensions\n",
    "X_reconstructed=np.dot(U[:,:n_components],np.dot(np.diag(S[:n_components]),VT[:n_components,:]))\n",
    "print(\"Original Matrix :\")\n",
    "print(X)\n",
    "print(\"\\nReconstruct Matrix(with reduced dimensions):\")\n",
    "print(X_reconstructed)\n"
   ]
  },
  {
   "cell_type": "code",
   "execution_count": null,
   "id": "cd159c12",
   "metadata": {},
   "outputs": [],
   "source": []
  }
 ],
 "metadata": {
  "kernelspec": {
   "display_name": "Python 3 (ipykernel)",
   "language": "python",
   "name": "python3"
  },
  "language_info": {
   "codemirror_mode": {
    "name": "ipython",
    "version": 3
   },
   "file_extension": ".py",
   "mimetype": "text/x-python",
   "name": "python",
   "nbconvert_exporter": "python",
   "pygments_lexer": "ipython3",
   "version": "3.11.5"
  }
 },
 "nbformat": 4,
 "nbformat_minor": 5
}
